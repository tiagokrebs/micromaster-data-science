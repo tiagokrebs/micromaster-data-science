{
 "cells": [
  {
   "cell_type": "code",
   "execution_count": null,
   "id": "d5a72173-4cf6-4ffb-b5c1-b67c77807028",
   "metadata": {},
   "outputs": [],
   "source": []
  },
  {
   "cell_type": "code",
   "execution_count": 83,
   "id": "4f9e1a16-8f84-4efb-a02a-519d5cd6cd11",
   "metadata": {},
   "outputs": [
    {
     "data": {
      "text/plain": [
       "(225745, 79)"
      ]
     },
     "execution_count": 83,
     "metadata": {},
     "output_type": "execute_result"
    }
   ],
   "source": [
    "ddos.shape"
   ]
  },
  {
   "cell_type": "markdown",
   "id": "b97b4c50-3491-48c1-8a2a-35519fd746c0",
   "metadata": {},
   "source": [
    "Some column names start with space so to keep consistency we need to make some cleaning on them."
   ]
  },
  {
   "cell_type": "code",
   "execution_count": 101,
   "id": "ec1724e6-66ff-4bbe-93a7-6c1a04a37585",
   "metadata": {},
   "outputs": [],
   "source": [
    "ddos.columns = ddos.columns.str.replace(' ','') # remove spaces from column names\n",
    "#ddos.columns"
   ]
  },
  {
   "cell_type": "code",
   "execution_count": 103,
   "id": "1505f274-03c5-444a-8e5c-4d5e465cbe5a",
   "metadata": {},
   "outputs": [
    {
     "data": {
      "text/plain": [
       "(225745, 11)"
      ]
     },
     "execution_count": 103,
     "metadata": {},
     "output_type": "execute_result"
    }
   ],
   "source": [
    "columns = ['DestinationPort','TotalFwdPackets','TotalBackwardPackets','FwdHeaderLength','BwdHeaderLength','PacketLengthMean','PacketLengthVariance','SYNFlagCount','ACKFlagCount','Down/UpRatio','Label']\n",
    "ddos_minimal = ddos[columns].copy()\n",
    "ddos_minimal.shape"
   ]
  },
  {
   "cell_type": "markdown",
   "id": "b86d2656-7dc2-450b-8e2a-a081b179c82e",
   "metadata": {},
   "source": [
    "To make sure we also need to remove all null values"
   ]
  },
  {
   "cell_type": "code",
   "execution_count": 104,
   "id": "87232acb-cadb-4e90-9d6c-f43c0d6e4e1e",
   "metadata": {},
   "outputs": [
    {
     "data": {
      "text/plain": [
       "(225745, 11)"
      ]
     },
     "execution_count": 104,
     "metadata": {},
     "output_type": "execute_result"
    }
   ],
   "source": [
    "ddos_minimal = ddos_minimal.dropna()\n",
    "ddos_minimal.shape"
   ]
  },
  {
   "cell_type": "code",
   "execution_count": 105,
   "id": "0b94c74c-b845-4fa5-84b0-dee7f404c2c6",
   "metadata": {},
   "outputs": [
    {
     "data": {
      "text/html": [
       "<div>\n",
       "<style scoped>\n",
       "    .dataframe tbody tr th:only-of-type {\n",
       "        vertical-align: middle;\n",
       "    }\n",
       "\n",
       "    .dataframe tbody tr th {\n",
       "        vertical-align: top;\n",
       "    }\n",
       "\n",
       "    .dataframe thead th {\n",
       "        text-align: right;\n",
       "    }\n",
       "</style>\n",
       "<table border=\"1\" class=\"dataframe\">\n",
       "  <thead>\n",
       "    <tr style=\"text-align: right;\">\n",
       "      <th></th>\n",
       "      <th>DestinationPort</th>\n",
       "      <th>TotalFwdPackets</th>\n",
       "      <th>TotalBackwardPackets</th>\n",
       "      <th>FwdHeaderLength</th>\n",
       "      <th>BwdHeaderLength</th>\n",
       "      <th>PacketLengthMean</th>\n",
       "      <th>PacketLengthVariance</th>\n",
       "      <th>SYNFlagCount</th>\n",
       "      <th>ACKFlagCount</th>\n",
       "      <th>Down/UpRatio</th>\n",
       "      <th>Label</th>\n",
       "    </tr>\n",
       "  </thead>\n",
       "  <tbody>\n",
       "    <tr>\n",
       "      <th>0</th>\n",
       "      <td>54865</td>\n",
       "      <td>2</td>\n",
       "      <td>0</td>\n",
       "      <td>40</td>\n",
       "      <td>0</td>\n",
       "      <td>6.0</td>\n",
       "      <td>0.0</td>\n",
       "      <td>0</td>\n",
       "      <td>1</td>\n",
       "      <td>0</td>\n",
       "      <td>BENIGN</td>\n",
       "    </tr>\n",
       "    <tr>\n",
       "      <th>1</th>\n",
       "      <td>55054</td>\n",
       "      <td>1</td>\n",
       "      <td>1</td>\n",
       "      <td>20</td>\n",
       "      <td>20</td>\n",
       "      <td>6.0</td>\n",
       "      <td>0.0</td>\n",
       "      <td>0</td>\n",
       "      <td>1</td>\n",
       "      <td>1</td>\n",
       "      <td>BENIGN</td>\n",
       "    </tr>\n",
       "    <tr>\n",
       "      <th>2</th>\n",
       "      <td>55055</td>\n",
       "      <td>1</td>\n",
       "      <td>1</td>\n",
       "      <td>20</td>\n",
       "      <td>20</td>\n",
       "      <td>6.0</td>\n",
       "      <td>0.0</td>\n",
       "      <td>0</td>\n",
       "      <td>1</td>\n",
       "      <td>1</td>\n",
       "      <td>BENIGN</td>\n",
       "    </tr>\n",
       "    <tr>\n",
       "      <th>3</th>\n",
       "      <td>46236</td>\n",
       "      <td>1</td>\n",
       "      <td>1</td>\n",
       "      <td>20</td>\n",
       "      <td>20</td>\n",
       "      <td>6.0</td>\n",
       "      <td>0.0</td>\n",
       "      <td>0</td>\n",
       "      <td>1</td>\n",
       "      <td>1</td>\n",
       "      <td>BENIGN</td>\n",
       "    </tr>\n",
       "    <tr>\n",
       "      <th>4</th>\n",
       "      <td>54863</td>\n",
       "      <td>2</td>\n",
       "      <td>0</td>\n",
       "      <td>40</td>\n",
       "      <td>0</td>\n",
       "      <td>6.0</td>\n",
       "      <td>0.0</td>\n",
       "      <td>0</td>\n",
       "      <td>1</td>\n",
       "      <td>0</td>\n",
       "      <td>BENIGN</td>\n",
       "    </tr>\n",
       "  </tbody>\n",
       "</table>\n",
       "</div>"
      ],
      "text/plain": [
       "   DestinationPort  TotalFwdPackets  TotalBackwardPackets  FwdHeaderLength  \\\n",
       "0            54865                2                     0               40   \n",
       "1            55054                1                     1               20   \n",
       "2            55055                1                     1               20   \n",
       "3            46236                1                     1               20   \n",
       "4            54863                2                     0               40   \n",
       "\n",
       "   BwdHeaderLength  PacketLengthMean  PacketLengthVariance  SYNFlagCount  \\\n",
       "0                0               6.0                   0.0             0   \n",
       "1               20               6.0                   0.0             0   \n",
       "2               20               6.0                   0.0             0   \n",
       "3               20               6.0                   0.0             0   \n",
       "4                0               6.0                   0.0             0   \n",
       "\n",
       "   ACKFlagCount  Down/UpRatio   Label  \n",
       "0             1             0  BENIGN  \n",
       "1             1             1  BENIGN  \n",
       "2             1             1  BENIGN  \n",
       "3             1             1  BENIGN  \n",
       "4             1             0  BENIGN  "
      ]
     },
     "execution_count": 105,
     "metadata": {},
     "output_type": "execute_result"
    }
   ],
   "source": [
    "ddos_minimal.head()"
   ]
  }
 ],
 "metadata": {
  "kernelspec": {
   "display_name": "",
   "name": ""
  },
  "language_info": {
   "name": ""
  }
 },
 "nbformat": 4,
 "nbformat_minor": 5
}
