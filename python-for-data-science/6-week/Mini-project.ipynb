{
 "cells": [
  {
   "cell_type": "markdown",
   "id": "b93f9d65-e3b0-450e-8b29-9aef92c3470f",
   "metadata": {},
   "source": [
    "### Mini Project"
   ]
  },
  {
   "cell_type": "markdown",
   "id": "9c021d1e-ee02-4ebd-b75e-4e0f72177bf0",
   "metadata": {},
   "source": [
    "Database: World Development Indicators Dataset"
   ]
  },
  {
   "cell_type": "markdown",
   "id": "552f0941-2822-4d72-aa7d-07c56d2f1a8c",
   "metadata": {},
   "source": [
    "EG.ELC.RNEW.ZS \tRenewable electricity output (% of total electricity output)\n",
    "\n",
    "EN.ATM.CO2E.PC \tCO2 emissions (metric tons per capita) \n"
   ]
  },
  {
   "cell_type": "markdown",
   "id": "7f9fa53f-fb2b-4553-b825-bf73d0ab4bef",
   "metadata": {},
   "source": [
    "# Step 1 - Select a dataset\n",
    "\n",
    "Data Source: https://www.kaggle.com/worldbank/world-development-indicators  \n",
    "Folder: 'world-development-indicators'"
   ]
  },
  {
   "cell_type": "markdown",
   "id": "df56a336-c0ef-4563-b14e-8be865ea5fe2",
   "metadata": {},
   "source": [
    "# Step 2 - Explore the dataset"
   ]
  },
  {
   "cell_type": "code",
   "execution_count": 575,
   "id": "0c1ed760-ae31-45cb-8d9b-098e98660801",
   "metadata": {},
   "outputs": [],
   "source": [
    "import pandas as pd\n",
    "import numpy as np\n",
    "import matplotlib.pyplot as plt"
   ]
  },
  {
   "cell_type": "code",
   "execution_count": 331,
   "id": "a6cec61e-b331-4792-9439-a7cac8438b47",
   "metadata": {},
   "outputs": [
    {
     "data": {
      "text/plain": [
       "(5656458, 6)"
      ]
     },
     "execution_count": 331,
     "metadata": {},
     "output_type": "execute_result"
    }
   ],
   "source": [
    "data = pd.read_csv('./Indicators.csv')"
   ]
  },
  {
   "cell_type": "markdown",
   "id": "4f960ba9-3b50-4d9e-be29-b0967bb3f967",
   "metadata": {},
   "source": [
    "# Step 2 - Explore the dataset"
   ]
  },
  {
   "cell_type": "markdown",
   "id": "64b66a73-e70c-4e69-b235-2d352d813ff7",
   "metadata": {},
   "source": [
    "### What kind of data this dataset have?"
   ]
  },
  {
   "cell_type": "code",
   "execution_count": 332,
   "id": "d35e6e47-0853-401e-8786-a2abe0e7c557",
   "metadata": {},
   "outputs": [
    {
     "data": {
      "text/html": [
       "<div>\n",
       "<style scoped>\n",
       "    .dataframe tbody tr th:only-of-type {\n",
       "        vertical-align: middle;\n",
       "    }\n",
       "\n",
       "    .dataframe tbody tr th {\n",
       "        vertical-align: top;\n",
       "    }\n",
       "\n",
       "    .dataframe thead th {\n",
       "        text-align: right;\n",
       "    }\n",
       "</style>\n",
       "<table border=\"1\" class=\"dataframe\">\n",
       "  <thead>\n",
       "    <tr style=\"text-align: right;\">\n",
       "      <th></th>\n",
       "      <th>CountryName</th>\n",
       "      <th>CountryCode</th>\n",
       "      <th>IndicatorName</th>\n",
       "      <th>IndicatorCode</th>\n",
       "      <th>Year</th>\n",
       "      <th>Value</th>\n",
       "    </tr>\n",
       "  </thead>\n",
       "  <tbody>\n",
       "    <tr>\n",
       "      <th>0</th>\n",
       "      <td>Arab World</td>\n",
       "      <td>ARB</td>\n",
       "      <td>Adolescent fertility rate (births per 1,000 wo...</td>\n",
       "      <td>SP.ADO.TFRT</td>\n",
       "      <td>1960</td>\n",
       "      <td>1.335609e+02</td>\n",
       "    </tr>\n",
       "    <tr>\n",
       "      <th>1</th>\n",
       "      <td>Arab World</td>\n",
       "      <td>ARB</td>\n",
       "      <td>Age dependency ratio (% of working-age populat...</td>\n",
       "      <td>SP.POP.DPND</td>\n",
       "      <td>1960</td>\n",
       "      <td>8.779760e+01</td>\n",
       "    </tr>\n",
       "    <tr>\n",
       "      <th>2</th>\n",
       "      <td>Arab World</td>\n",
       "      <td>ARB</td>\n",
       "      <td>Age dependency ratio, old (% of working-age po...</td>\n",
       "      <td>SP.POP.DPND.OL</td>\n",
       "      <td>1960</td>\n",
       "      <td>6.634579e+00</td>\n",
       "    </tr>\n",
       "    <tr>\n",
       "      <th>3</th>\n",
       "      <td>Arab World</td>\n",
       "      <td>ARB</td>\n",
       "      <td>Age dependency ratio, young (% of working-age ...</td>\n",
       "      <td>SP.POP.DPND.YG</td>\n",
       "      <td>1960</td>\n",
       "      <td>8.102333e+01</td>\n",
       "    </tr>\n",
       "    <tr>\n",
       "      <th>4</th>\n",
       "      <td>Arab World</td>\n",
       "      <td>ARB</td>\n",
       "      <td>Arms exports (SIPRI trend indicator values)</td>\n",
       "      <td>MS.MIL.XPRT.KD</td>\n",
       "      <td>1960</td>\n",
       "      <td>3.000000e+06</td>\n",
       "    </tr>\n",
       "  </tbody>\n",
       "</table>\n",
       "</div>"
      ],
      "text/plain": [
       "  CountryName CountryCode                                      IndicatorName  \\\n",
       "0  Arab World         ARB  Adolescent fertility rate (births per 1,000 wo...   \n",
       "1  Arab World         ARB  Age dependency ratio (% of working-age populat...   \n",
       "2  Arab World         ARB  Age dependency ratio, old (% of working-age po...   \n",
       "3  Arab World         ARB  Age dependency ratio, young (% of working-age ...   \n",
       "4  Arab World         ARB        Arms exports (SIPRI trend indicator values)   \n",
       "\n",
       "    IndicatorCode  Year         Value  \n",
       "0     SP.ADO.TFRT  1960  1.335609e+02  \n",
       "1     SP.POP.DPND  1960  8.779760e+01  \n",
       "2  SP.POP.DPND.OL  1960  6.634579e+00  \n",
       "3  SP.POP.DPND.YG  1960  8.102333e+01  \n",
       "4  MS.MIL.XPRT.KD  1960  3.000000e+06  "
      ]
     },
     "execution_count": 332,
     "metadata": {},
     "output_type": "execute_result"
    }
   ],
   "source": [
    "data.head()"
   ]
  },
  {
   "cell_type": "markdown",
   "id": "2661efc7-86e5-48f0-94de-799d33c66699",
   "metadata": {},
   "source": [
    "### Do we have any indicator of renewable energy?"
   ]
  },
  {
   "cell_type": "code",
   "execution_count": 333,
   "id": "8bdada99-de8b-4f0f-b4dc-08e655562c0b",
   "metadata": {},
   "outputs": [
    {
     "data": {
      "text/plain": [
       "7"
      ]
     },
     "execution_count": 333,
     "metadata": {},
     "output_type": "execute_result"
    }
   ],
   "source": [
    "# filter dataset by indicator of % of renwable eletricity\n",
    "search = 'renewable'\n",
    "mask = data['IndicatorName'].str.contains(search, case=False)\n",
    "result = data[mask]\n",
    "\n",
    "# show unique values\n",
    "len(result['IndicatorName'].unique().tolist())"
   ]
  },
  {
   "cell_type": "code",
   "execution_count": 334,
   "id": "f78ba07a-a173-4949-bc62-a5435d6ecb3a",
   "metadata": {},
   "outputs": [
    {
     "data": {
      "text/plain": [
       "['Combustible renewables and waste (% of total energy)',\n",
       " 'Electricity production from renewable sources, excluding hydroelectric (kWh)',\n",
       " 'Electricity production from renewable sources, excluding hydroelectric (% of total)',\n",
       " 'Renewable internal freshwater resources per capita (cubic meters)',\n",
       " 'Renewable internal freshwater resources, total (billion cubic meters)',\n",
       " 'Renewable electricity output (% of total electricity output)',\n",
       " 'Renewable energy consumption (% of total final energy consumption)']"
      ]
     },
     "execution_count": 334,
     "metadata": {},
     "output_type": "execute_result"
    }
   ],
   "source": [
    "result['IndicatorName'].unique().tolist()"
   ]
  },
  {
   "cell_type": "markdown",
   "id": "7160853c-1411-4d9d-a94c-2072e35bbf0f",
   "metadata": {},
   "source": [
    "Yes we have. Renewable energy consumption (% of total final energy consumption) seems like a good indicator to use."
   ]
  },
  {
   "cell_type": "markdown",
   "id": "2013a379-063a-40c1-a9c3-a8c4100235fd",
   "metadata": {},
   "source": [
    "### How many unique values are in the dataset for the renewable eletricity indicator?"
   ]
  },
  {
   "cell_type": "code",
   "execution_count": 335,
   "id": "d760d6de-54a1-4a21-bb38-d658b499b91d",
   "metadata": {},
   "outputs": [
    {
     "data": {
      "text/plain": [
       "221"
      ]
     },
     "execution_count": 335,
     "metadata": {},
     "output_type": "execute_result"
    }
   ],
   "source": [
    "# filter dataset by indicator of % of renwable eletricity\n",
    "indicator_rnew = 'Renewable energy consumption \\(%'\n",
    "mask_rnew = data['IndicatorName'].str.contains(indicator_rnew)\n",
    "data_rnew = data[mask_rnew]\n",
    "\n",
    "# show unique values\n",
    "len(data_rnew['CountryName'].unique().tolist())"
   ]
  },
  {
   "cell_type": "markdown",
   "id": "577adc18-043d-426d-bfac-0506d2ee09dc",
   "metadata": {},
   "source": [
    "### How about the CO2 per capita?"
   ]
  },
  {
   "cell_type": "code",
   "execution_count": 336,
   "id": "3359e9b6-78ac-4bae-9f96-3bc1e4899b27",
   "metadata": {},
   "outputs": [
    {
     "data": {
      "text/plain": [
       "232"
      ]
     },
     "execution_count": 336,
     "metadata": {},
     "output_type": "execute_result"
    }
   ],
   "source": [
    "indicator_co2 = 'CO2 emissions \\(metric'\n",
    "mask_co2 = data['IndicatorName'].str.contains(indicator_co2)\n",
    "data_co2 = data[mask_co2]\n",
    "\n",
    "# show unique values\n",
    "len(data_co2['CountryName'].unique().tolist())"
   ]
  },
  {
   "cell_type": "markdown",
   "id": "2b454a2d-a175-44a0-ba3b-6b8561906dfe",
   "metadata": {},
   "source": [
    "Looks like we have a fair amount of unique countries to work with in both indicators."
   ]
  },
  {
   "cell_type": "markdown",
   "id": "58815794-87fa-4d60-a865-0673b8274eaf",
   "metadata": {},
   "source": [
    "### How many yearf of data in these indicators we have?"
   ]
  },
  {
   "cell_type": "code",
   "execution_count": 337,
   "id": "5cad0f26-1b17-4fc8-a26f-df6d2c4005c2",
   "metadata": {},
   "outputs": [
    {
     "data": {
      "text/plain": [
       "23"
      ]
     },
     "execution_count": 337,
     "metadata": {},
     "output_type": "execute_result"
    }
   ],
   "source": [
    "data_rnew_year = data_rnew['Year'].unique().tolist()\n",
    "len(data_rnew_year)"
   ]
  },
  {
   "cell_type": "code",
   "execution_count": 339,
   "id": "bab64109-98ec-475e-8719-0b40e47f50f7",
   "metadata": {},
   "outputs": [
    {
     "data": {
      "text/plain": [
       "52"
      ]
     },
     "execution_count": 339,
     "metadata": {},
     "output_type": "execute_result"
    }
   ],
   "source": [
    "data_co2_year = data_co2['Year'].unique().tolist()\n",
    "len(data_co2_year)"
   ]
  },
  {
   "cell_type": "markdown",
   "id": "4a130036-6243-4fe5-8350-8688ec601196",
   "metadata": {},
   "source": [
    "### What's the range of years?"
   ]
  },
  {
   "cell_type": "code",
   "execution_count": 340,
   "id": "8c5317d4-904a-452d-b572-d4b04757c4f1",
   "metadata": {},
   "outputs": [
    {
     "name": "stdout",
     "output_type": "stream",
     "text": [
      "1990  to  2012\n"
     ]
    }
   ],
   "source": [
    "print(min(data_rnew_year),\" to \",max(data_rnew_year))"
   ]
  },
  {
   "cell_type": "code",
   "execution_count": 341,
   "id": "513a1cc6-9ddf-4335-a07c-9857add6888f",
   "metadata": {},
   "outputs": [
    {
     "name": "stdout",
     "output_type": "stream",
     "text": [
      "1960  to  2011\n"
     ]
    }
   ],
   "source": [
    "print(min(data_co2_year),\" to \",max(data_co2_year))"
   ]
  },
  {
   "cell_type": "markdown",
   "id": "ca2849f1-0daf-492c-8b7f-6455f8084816",
   "metadata": {},
   "source": [
    "The CO2 indicator has more data on the dataset. The gap between 1960-1990 and the last year (2012) should be filtered out."
   ]
  },
  {
   "cell_type": "markdown",
   "id": "22d7a1ed-e241-4642-8e8e-b8196ed7ca81",
   "metadata": {},
   "source": [
    "# Step 3 - Search Question"
   ]
  },
  {
   "cell_type": "markdown",
   "id": "7ff99730-7f48-4963-a9bc-61f3fc6f1d0a",
   "metadata": {},
   "source": [
    "## There is a significant correlation between the amount of renewable energy and the CO2 emissions in the countries?"
   ]
  },
  {
   "cell_type": "markdown",
   "id": "e4a8ef2e-87f6-49c9-af3c-b43970afdb2b",
   "metadata": {},
   "source": [
    "# Step 4 - Answering the question"
   ]
  },
  {
   "cell_type": "markdown",
   "id": "1849efbd-27cd-440a-b21b-c077cebfb49f",
   "metadata": {},
   "source": [
    "Look at the indicators for one country, Germany."
   ]
  },
  {
   "cell_type": "code",
   "execution_count": 556,
   "id": "23e047aa-6b07-4c44-bfbf-1393723f6d69",
   "metadata": {},
   "outputs": [],
   "source": [
    "hist_indicator = 'EG.ELC.RNEW.ZS' \n",
    "hist_country = 'DEU'\n",
    "\n",
    "mask1 = data['IndicatorCode'].eq(hist_indicator)\n",
    "mask2 = data['CountryCode'].eq(hist_country)\n",
    "mask3 = data['Year'].between(1991,2011)\n",
    "\n",
    "energy_stage = data[mask1 & mask2 & mask3]"
   ]
  },
  {
   "cell_type": "code",
   "execution_count": 557,
   "id": "e4a1a645-05a9-469b-8486-061e16a6d73b",
   "metadata": {},
   "outputs": [
    {
     "data": {
      "image/png": "[encoded data removed]",
      "text/plain": [
       "<Figure size 432x288 with 1 Axes>"
      ]
     },
     "metadata": {
      "needs_background": "light"
     },
     "output_type": "display_data"
    }
   ],
   "source": [
    "plt.plot(energy_stage['Year'].values, energy_stage['Value'].values)\n",
    "\n",
    "plt.xlabel('Year')\n",
    "plt.ylabel(energy_stage['IndicatorName'].iloc[0])\n",
    "\n",
    "plt.title('Renewable energy consumption in Germany')\n",
    "\n",
    "plt.axis([1991, 2011,0,25])\n",
    "\n",
    "plt.show()"
   ]
  },
  {
   "cell_type": "code",
   "execution_count": 558,
   "id": "c231281c-6e90-459b-9751-b8e4fd454296",
   "metadata": {},
   "outputs": [],
   "source": [
    "hist_indicator = 'EN.ATM.CO2E.PC'\n",
    "hist_country = 'DEU'\n",
    "\n",
    "mask1 = data['IndicatorCode'].eq(hist_indicator)\n",
    "mask2 = data['CountryCode'].eq(hist_country)\n",
    "mask3 = data['Year'].between(1991,2011)\n",
    "\n",
    "co2_stage = data[mask1 & mask2 & mask3]"
   ]
  },
  {
   "cell_type": "code",
   "execution_count": 559,
   "id": "323866e3-1643-4c3a-a0a9-a2835cab44a9",
   "metadata": {},
   "outputs": [
    {
     "data": {
      "image/png": "[encoded data removed]",
      "text/plain": [
       "<Figure size 432x288 with 1 Axes>"
      ]
     },
     "metadata": {
      "needs_background": "light"
     },
     "output_type": "display_data"
    }
   ],
   "source": [
    "plt.plot(co2_stage['Year'].values, co2_stage['Value'].values)\n",
    "\n",
    "plt.xlabel('Year')\n",
    "plt.ylabel(co2_stage['IndicatorName'].iloc[0])\n",
    "\n",
    "plt.title('CO2 emissions in Germany')\n",
    "\n",
    "plt.axis([1991, 2011,0,25])\n",
    "\n",
    "plt.show()"
   ]
  },
  {
   "cell_type": "markdown",
   "id": "31904ecc-6a7f-4ecb-b3b3-5a2fe93fa99a",
   "metadata": {},
   "source": [
    "Seems like we can have a negative correlation between the two indicators."
   ]
  },
  {
   "cell_type": "code",
   "execution_count": 560,
   "id": "b02f253a-034a-41a1-a970-d7ffdd66f7b8",
   "metadata": {},
   "outputs": [
    {
     "name": "stdout",
     "output_type": "stream",
     "text": [
      "21\n",
      "21\n"
     ]
    }
   ],
   "source": [
    "# just to make sure we have the same amoutn or years\n",
    "print(len(energy_stage))\n",
    "print(len(co2_stage))"
   ]
  },
  {
   "cell_type": "markdown",
   "id": "c2d23228-677f-470c-8993-143bcab87ea6",
   "metadata": {},
   "source": [
    "Using a scatterplot to compare both indicators"
   ]
  },
  {
   "cell_type": "code",
   "execution_count": 561,
   "id": "e3818c59-ba7b-4c2b-953a-cafabefcf56c",
   "metadata": {},
   "outputs": [
    {
     "data": {
      "image/png": "[encoded data removed]",
      "text/plain": [
       "<Figure size 432x288 with 1 Axes>"
      ]
     },
     "metadata": {
      "needs_background": "light"
     },
     "output_type": "display_data"
    }
   ],
   "source": [
    "%matplotlib inline\n",
    "import matplotlib.pyplot as plt\n",
    "\n",
    "fig, axis = plt.subplots()\n",
    "\n",
    "axis.yaxis.grid(True)\n",
    "axis.set_title('CO2 Emissions vs. Renewable Energy Consumption',fontsize=10)\n",
    "axis.set_xlabel(energy_stage['IndicatorName'].iloc[0],fontsize=10)\n",
    "axis.set_ylabel(co2_stage['IndicatorName'].iloc[0],fontsize=10)\n",
    "\n",
    "X = energy_stage['Value']\n",
    "Y = co2_stage['Value']\n",
    "\n",
    "axis.scatter(X, Y)\n",
    "plt.show()"
   ]
  },
  {
   "cell_type": "markdown",
   "id": "397a0668-601b-444b-bdff-dcd763a5af16",
   "metadata": {},
   "source": [
    "This look like a strong negative correlation, let's see with coorcoef."
   ]
  },
  {
   "cell_type": "code",
   "execution_count": 562,
   "id": "58686edc-65da-407e-9595-ebfe4c0db63c",
   "metadata": {},
   "outputs": [
    {
     "data": {
      "text/plain": [
       "array([[ 1.        , -0.90872475],\n",
       "       [-0.90872475,  1.        ]])"
      ]
     },
     "execution_count": 562,
     "metadata": {},
     "output_type": "execute_result"
    }
   ],
   "source": [
    "np.corrcoef(energy_stage['Value'],co2_stage['Value'])"
   ]
  },
  {
   "cell_type": "markdown",
   "id": "f7ba4ccf-6d94-4fca-8c34-640202564bf4",
   "metadata": {},
   "source": [
    "## Ok, how about the top 5 countries in renewable energy?\n",
    "According to https://www.climatecouncil.org.au/11-countries-leading-the-charge-on-renewable-energy/ the top 10 are:\n",
    "- SWEDEN\n",
    "- COSTA RICA\n",
    "- NICARAGUA\n",
    "- SCOTLAND\n",
    "- GERMANY"
   ]
  },
  {
   "cell_type": "code",
   "execution_count": 568,
   "id": "539a7e3c-c351-4884-80b1-b78ac6593c97",
   "metadata": {},
   "outputs": [],
   "source": [
    "hist_indicator = 'EG.ELC.RNEW.ZS' \n",
    "hist_country = ['SWE','CRI','NIC','GBR','DEU','URY','DNK']\n",
    "\n",
    "mask1 = data['IndicatorCode'].eq(hist_indicator)\n",
    "mask2 = data['CountryCode'].isin(hist_country)\n",
    "mask3 = data['Year'].between(1991,2011)\n",
    "\n",
    "energy_stage = data[mask1 & mask2 & mask3]"
   ]
  },
  {
   "cell_type": "code",
   "execution_count": 569,
   "id": "ab943df2-ed95-43fe-8ac7-9b0912ad20a3",
   "metadata": {},
   "outputs": [],
   "source": [
    "hist_indicator = 'EN.ATM.CO2E.PC'\n",
    "hist_country = ['SWE','CRI','NIC','GBR','DEU','URY','DNK']\n",
    "\n",
    "mask1 = data['IndicatorCode'].eq(hist_indicator)\n",
    "mask2 = data['CountryCode'].isin(hist_country)\n",
    "mask3 = data['Year'].between(1991,2011)\n",
    "\n",
    "co2_stage = data[mask1 & mask2 & mask3]"
   ]
  },
  {
   "cell_type": "markdown",
   "id": "a42e6698-3d51-45d8-9e57-384a9820d544",
   "metadata": {},
   "source": [
    "Seems like we can have a negative correlation between the two indicators."
   ]
  },
  {
   "cell_type": "code",
   "execution_count": 570,
   "id": "747ff240-b27b-4e39-bc49-d5c5d61e59d0",
   "metadata": {},
   "outputs": [
    {
     "name": "stdout",
     "output_type": "stream",
     "text": [
      "147\n",
      "147\n"
     ]
    }
   ],
   "source": [
    "# just to make sure we have the same amoutn or years\n",
    "print(len(energy_stage))\n",
    "print(len(co2_stage))"
   ]
  },
  {
   "cell_type": "markdown",
   "id": "81198e7a-aa43-45cc-8d56-54b5bab1601d",
   "metadata": {},
   "source": [
    "Using a scatterplot to compare both indicators"
   ]
  },
  {
   "cell_type": "code",
   "execution_count": 573,
   "id": "f27f385a-5ebd-4fe1-967c-4cfb035a9163",
   "metadata": {},
   "outputs": [
    {
     "data": {
      "image/png": "[encoded data removed]",
      "text/plain": [
       "<Figure size 432x288 with 1 Axes>"
      ]
     },
     "metadata": {
      "needs_background": "light"
     },
     "output_type": "display_data"
    }
   ],
   "source": [
    "%matplotlib inline\n",
    "import matplotlib.pyplot as plt\n",
    "\n",
    "fig, axis = plt.subplots()\n",
    "\n",
    "axis.yaxis.grid(True)\n",
    "axis.set_title('CO2 Emissions vs. Renewable Energy Consumption',fontsize=10)\n",
    "axis.set_xlabel(energy_stage['IndicatorName'].iloc[0],fontsize=10)\n",
    "axis.set_ylabel(co2_stage['IndicatorName'].iloc[0],fontsize=10)\n",
    "\n",
    "X = energy_stage['Value']\n",
    "Y = co2_stage['Value']\n",
    "\n",
    "axis.scatter(X, Y)\n",
    "plt.show()"
   ]
  },
  {
   "cell_type": "markdown",
   "id": "15767e23-01ec-4953-b4de-a16accdede5c",
   "metadata": {},
   "source": [
    "This look like a strong negative correlation, let's see with coorcoef."
   ]
  },
  {
   "cell_type": "code",
   "execution_count": 572,
   "id": "3ce69241-b140-4402-81e3-7ed2a0c5c7e1",
   "metadata": {},
   "outputs": [
    {
     "data": {
      "text/plain": [
       "array([[ 1.        , -0.79756351],\n",
       "       [-0.79756351,  1.        ]])"
      ]
     },
     "execution_count": 572,
     "metadata": {},
     "output_type": "execute_result"
    }
   ],
   "source": [
    "np.corrcoef(energy_stage['Value'],co2_stage['Value'])"
   ]
  }
 ],
 "metadata": {
  "kernelspec": {
   "display_name": "Python 3",
   "language": "python",
   "name": "python3"
  },
  "language_info": {
   "codemirror_mode": {
    "name": "ipython",
    "version": 3
   },
   "file_extension": ".py",
   "mimetype": "text/x-python",
   "name": "python",
   "nbconvert_exporter": "python",
   "pygments_lexer": "ipython3",
   "version": "3.8.5"
  }
 },
 "nbformat": 4,
 "nbformat_minor": 5
}
