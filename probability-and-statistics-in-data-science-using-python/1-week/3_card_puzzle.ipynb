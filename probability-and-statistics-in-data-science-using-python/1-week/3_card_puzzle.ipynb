{
 "cells": [
  {
   "cell_type": "markdown",
   "id": "99609075-f0c8-4786-8ed1-0476e1514516",
   "metadata": {},
   "source": [
    "# 3-Card Puzzle"
   ]
  },
  {
   "cell_type": "code",
   "execution_count": 12,
   "id": "195b3632-5b35-458d-8242-f5c21c2614cb",
   "metadata": {},
   "outputs": [
    {
     "name": "stdout",
     "output_type": "stream",
     "text": [
      "\u001b[44mB\u001b[0m\u001b[41mR\u001b[0m different\u001b[41mR\u001b[0m\u001b[44mB\u001b[0m different\u001b[41mR\u001b[0m\u001b[44mB\u001b[0m different\u001b[44mB\u001b[0m\u001b[44mB\u001b[0m same     \u001b[41mR\u001b[0m\u001b[41mR\u001b[0m same     \n",
      "\u001b[41mR\u001b[0m\u001b[41mR\u001b[0m same     \u001b[41mR\u001b[0m\u001b[44mB\u001b[0m different\u001b[44mB\u001b[0m\u001b[44mB\u001b[0m same     \u001b[41mR\u001b[0m\u001b[44mB\u001b[0m different\u001b[41mR\u001b[0m\u001b[41mR\u001b[0m same     \n",
      "\u001b[41mR\u001b[0m\u001b[44mB\u001b[0m different\u001b[44mB\u001b[0m\u001b[44mB\u001b[0m same     \u001b[44mB\u001b[0m\u001b[41mR\u001b[0m different\u001b[44mB\u001b[0m\u001b[44mB\u001b[0m same     \u001b[41mR\u001b[0m\u001b[44mB\u001b[0m different\n",
      "\u001b[41mR\u001b[0m\u001b[41mR\u001b[0m same     \u001b[41mR\u001b[0m\u001b[41mR\u001b[0m same     \u001b[44mB\u001b[0m\u001b[44mB\u001b[0m same     \u001b[41mR\u001b[0m\u001b[41mR\u001b[0m same     \u001b[41mR\u001b[0m\u001b[44mB\u001b[0m different\n",
      "\u001b[41mR\u001b[0m\u001b[44mB\u001b[0m different\u001b[44mB\u001b[0m\u001b[44mB\u001b[0m same     \u001b[41mR\u001b[0m\u001b[44mB\u001b[0m different\u001b[41mR\u001b[0m\u001b[44mB\u001b[0m different\u001b[41mR\u001b[0m\u001b[41mR\u001b[0m same     \n",
      "\u001b[41mR\u001b[0m\u001b[41mR\u001b[0m same     \u001b[44mB\u001b[0m\u001b[44mB\u001b[0m same     \u001b[41mR\u001b[0m\u001b[41mR\u001b[0m same     \u001b[41mR\u001b[0m\u001b[41mR\u001b[0m same     \u001b[41mR\u001b[0m\u001b[44mB\u001b[0m different\n",
      "\u001b[41mR\u001b[0m\u001b[41mR\u001b[0m same     \u001b[44mB\u001b[0m\u001b[41mR\u001b[0m different\u001b[44mB\u001b[0m\u001b[44mB\u001b[0m same     \u001b[41mR\u001b[0m\u001b[41mR\u001b[0m same     \u001b[44mB\u001b[0m\u001b[41mR\u001b[0m different\n",
      "\u001b[41mR\u001b[0m\u001b[41mR\u001b[0m same     \u001b[41mR\u001b[0m\u001b[41mR\u001b[0m same     \u001b[44mB\u001b[0m\u001b[44mB\u001b[0m same     \u001b[44mB\u001b[0m\u001b[44mB\u001b[0m same     \u001b[44mB\u001b[0m\u001b[44mB\u001b[0m same     \n",
      "\u001b[41mR\u001b[0m\u001b[41mR\u001b[0m same     \u001b[44mB\u001b[0m\u001b[41mR\u001b[0m different\u001b[44mB\u001b[0m\u001b[41mR\u001b[0m different\u001b[44mB\u001b[0m\u001b[44mB\u001b[0m same     \u001b[44mB\u001b[0m\u001b[44mB\u001b[0m same     \n",
      "\u001b[44mB\u001b[0m\u001b[44mB\u001b[0m same     \u001b[44mB\u001b[0m\u001b[44mB\u001b[0m same     \u001b[41mR\u001b[0m\u001b[41mR\u001b[0m same     \u001b[41mR\u001b[0m\u001b[41mR\u001b[0m same     \u001b[44mB\u001b[0m\u001b[41mR\u001b[0m different\n",
      "\n",
      "{'same': 32, 'different': 18}\n"
     ]
    }
   ],
   "source": [
    "red_bck=\"\\x1b[41m%s\\x1b[0m\"\n",
    "blue_bck=\"\\x1b[44m%s\\x1b[0m\"\n",
    "red=red_bck%'R'\n",
    "black=blue_bck%'B'\n",
    "Cards=[(red,black),(red,red),(black,black)]\n",
    "counts={'same':0,'different':0}\n",
    "from random import random\n",
    "for j in range(50):\n",
    "    i=int(random()*3.) # Select a random card\n",
    "    side=int(random()*2.)\n",
    "    C=Cards[i]\n",
    "    if(side==1): # select which side to be \"up\"\n",
    "        C=(C[1],C[0])\n",
    "    same= 'same' if C[0]==C[1] else 'different' # count the number of times the two sides are the same or different.\n",
    "    counts[same]+=1\n",
    "    print(''.join(C)+' %-9s'%same, end='')\n",
    "    if (j+1)%5==0:\n",
    "        print()\n",
    "print()\n",
    "print(counts)"
   ]
  },
  {
   "cell_type": "markdown",
   "id": "a913abab-3406-4266-befe-4a3c3375e811",
   "metadata": {},
   "source": [
    "Com base no experimento acima podemos concluir que a premissa de que o jogo é justo na realidade é falsa.\n",
    "Há muito mais chance da cor escondida embaixo da carta escolhida ser igual do que diferente, a uma taxa aproximada de 2/3"
   ]
  },
  {
   "cell_type": "code",
   "execution_count": null,
   "id": "8fb7755f-43c1-44b1-8ba8-87065a7b67a0",
   "metadata": {},
   "outputs": [],
   "source": []
  }
 ],
 "metadata": {
  "kernelspec": {
   "display_name": "Python 3 (ipykernel)",
   "language": "python",
   "name": "python3"
  },
  "language_info": {
   "codemirror_mode": {
    "name": "ipython",
    "version": 3
   },
   "file_extension": ".py",
   "mimetype": "text/x-python",
   "name": "python",
   "nbconvert_exporter": "python",
   "pygments_lexer": "ipython3",
   "version": "3.9.6"
  }
 },
 "nbformat": 4,
 "nbformat_minor": 5
}
